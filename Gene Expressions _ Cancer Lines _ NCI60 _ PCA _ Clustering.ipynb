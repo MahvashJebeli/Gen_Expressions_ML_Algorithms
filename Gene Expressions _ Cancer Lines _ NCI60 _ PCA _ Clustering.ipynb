{
 "cells": [
  {
   "cell_type": "code",
   "execution_count": 7,
   "id": "06d53b71",
   "metadata": {},
   "outputs": [],
   "source": [
    "# Example code to work with gene expression data, ISLR dataset NCI60 was used\n",
    "# NCI60 consists of 6,830 gene expression measurements on 64 cancer cell lines.\n",
    "# Unsupervised Learning\n",
    "# Using PCA for dimension reduction, then clustering to predict cancer type\n",
    "# Not using the cancer types in performing PCA and clustering, as these are unsupervised techniques.\n",
    "# Dataset compatible with python was downloaded from https://github.com/emredjan/ISL-python/tree/master/datasets\n",
    "import numpy as np\n",
    "from sklearn import preprocessing \n",
    "from sklearn.model_selection import train_test_split\n",
    "from sklearn.decomposition import PCA\n",
    "from sklearn.metrics import silhouette_score\n",
    "import pandas as pd\n",
    "import matplotlib.pyplot as plt\n",
    "import matplotlib.cm as cm\n",
    "from matplotlib import style\n",
    "style.use('ggplot')\n",
    "import scipy.spatial\n",
    "from scipy.cluster.hierarchy import linkage, dendrogram, fcluster"
   ]
  },
  {
   "cell_type": "code",
   "execution_count": 28,
   "id": "3d7a8e63",
   "metadata": {},
   "outputs": [
    {
     "name": "stdout",
     "output_type": "stream",
     "text": [
      "   Unnamed: 0    data.1    data.2    data.3    data.4    data.5        data.6  \\\n",
      "0          V1  0.300000  1.180000  0.550000  1.140000 -0.265000 -7.000000e-02   \n",
      "1          V2  0.679961  1.289961  0.169961  0.379961  0.464961  5.799610e-01   \n",
      "2          V3  0.940000 -0.040000 -0.170000 -0.040000 -0.605000  0.000000e+00   \n",
      "3          V4  0.280000 -0.310000  0.680000 -0.810000  0.625000 -1.387779e-17   \n",
      "4          V5  0.485000 -0.465000  0.395000  0.905000  0.200000 -5.000000e-03   \n",
      "..        ...       ...       ...       ...       ...       ...           ...   \n",
      "59        V60 -0.030000 -0.480000  0.070000 -0.700000 -0.195000  4.100000e-01   \n",
      "60        V61 -0.270000  0.630000 -0.100000  1.100000  1.045000  8.000000e-02   \n",
      "61        V62  0.210000 -0.620000 -0.150000 -1.330000  0.045000 -4.000000e-01   \n",
      "62        V63 -0.050000  0.140000 -0.090000 -1.260000  0.045000 -2.710505e-20   \n",
      "63        V64  0.350000 -0.270000  0.020000 -1.230000 -0.715000 -3.400000e-01   \n",
      "\n",
      "      data.7    data.8    data.9  ...  data.6822  data.6823  data.6824  \\\n",
      "0   0.350000 -0.315000 -0.450000  ...   0.000000   0.030000  -0.175000   \n",
      "1   0.699961  0.724961 -0.040039  ...  -0.300039  -0.250039  -0.535039   \n",
      "2   0.090000  0.645000  0.430000  ...   0.120000  -0.740000  -0.595000   \n",
      "3   0.170000  0.245000  0.020000  ...  -0.110000  -0.160000   0.095000   \n",
      "4   0.085000  0.110000  0.235000  ...  -0.775000  -0.515000  -0.320000   \n",
      "..       ...       ...       ...  ...        ...        ...        ...   \n",
      "59 -0.240000  0.105000 -0.410000  ...   0.150000  -0.430000   0.145000   \n",
      "60 -0.090000 -0.675000 -0.310000  ...   0.200000   0.290000  -0.035000   \n",
      "61 -0.390000 -0.675000 -0.360000  ...  -0.120000   0.850000  -0.125000   \n",
      "62  0.420000 -0.305000  0.310000  ...  -0.420000  -0.460000  -0.855000   \n",
      "63 -0.520000  0.475000  0.230000  ...   3.000000   2.860000   2.145000   \n",
      "\n",
      "    data.6825  data.6826  data.6827  data.6828  data.6829  data.6830      labs  \n",
      "0    0.629981  -0.030000   0.000000   0.280000  -0.340000  -1.930000       CNS  \n",
      "1    0.109941  -0.860039  -1.250049  -0.770039  -0.390039  -2.000039       CNS  \n",
      "2   -0.270020  -0.150000   0.000000  -0.120000  -0.410000   0.000000       CNS  \n",
      "3   -0.350019  -0.300000  -1.150010   1.090000  -0.260000  -1.100000     RENAL  \n",
      "4    0.634980   0.605000   0.000000   0.745000   0.425000   0.145000    BREAST  \n",
      "..        ...        ...        ...        ...        ...        ...       ...  \n",
      "59  -0.090020  -0.020000  -1.390010  -1.150000   0.290000   1.190000  MELANOMA  \n",
      "60   0.279981  -0.160000  -0.020010  -0.640000  -0.370000  -0.430000  MELANOMA  \n",
      "61   0.779980   0.390000   0.000000   0.160000   2.030000   3.940000  MELANOMA  \n",
      "62  -0.160020  -0.350000  -0.360010  -0.490000   0.010000  -1.720000  MELANOMA  \n",
      "63   0.869981   0.480000   0.969990   0.290000  -0.150000   1.210000  MELANOMA  \n",
      "\n",
      "[64 rows x 6832 columns]\n"
     ]
    },
    {
     "name": "stderr",
     "output_type": "stream",
     "text": [
      "C:\\Users\\mahva\\AppData\\Local\\Temp/ipykernel_19488/370971691.py:9: FutureWarning: In a future version of pandas all arguments of DataFrame.drop except for the argument 'labels' will be keyword-only\n",
      "  df.drop(['Unnamed: 0', 'labs'], 1, inplace = True )\n"
     ]
    }
   ],
   "source": [
    "# work with NCI60 dataset\n",
    "df = pd.read_csv('NCI60.csv')\n",
    "print(df)\n",
    "\n",
    "# Finding unique cancer types for later making the colormap\n",
    "unique_words = df['labs'].unique()\n",
    "\n",
    "y = np.array(df['labs'])\n",
    "df.drop(['Unnamed: 0', 'labs'], 1, inplace = True )\n",
    "X = np.array(df)\n",
    "\n",
    "# print(X)\n",
    "# print(y)"
   ]
  },
  {
   "cell_type": "code",
   "execution_count": null,
   "id": "fbfc9a94",
   "metadata": {},
   "outputs": [],
   "source": [
    "# Create a colormap\n",
    "cmap = cm.get_cmap('tab10')\n",
    "colorsCan = {}\n",
    "# Make a dict to assign a color to each cancer type\n",
    "for cancer, color in zip(unique_words, cmap.colors):\n",
    "    colorsCanc[cancer] = color\n",
    "\n",
    "# Print the dictionary\n",
    "print(len(colorsCanc))\n",
    "print(colorsCanc)"
   ]
  },
  {
   "cell_type": "code",
   "execution_count": null,
   "id": "95d60802",
   "metadata": {},
   "outputs": [],
   "source": [
    "# Compute the principal components\n",
    "pca = PCA(n_components=64)\n",
    "pca.fit(X)\n",
    "fig, ax = plt.subplots()\n",
    "for i in range(len(y)):\n",
    "    color = np.array([colorsCanc[y[i]]])\n",
    "    plt.scatter(pca.transform(X)[i, 0], pca.transform(X)[i, 1], c = color)\n",
    "\n",
    "# Add axis labels\n",
    "ax.set_xlabel('Z1')\n",
    "ax.set_ylabel('Z2')\n",
    "\n",
    "# Plot the first few principal component score vectors\n",
    "# plt.scatter(pca.transform(X)[:, 0], pca.transform(X)[:, 1], 'o', c = colors(y[i]))\n",
    "plt.show()"
   ]
  },
  {
   "cell_type": "code",
   "execution_count": null,
   "id": "609669cb",
   "metadata": {},
   "outputs": [],
   "source": [
    "fig, ax = plt.subplots()\n",
    "\n",
    "for i in range(len(y)):\n",
    "    color = np.array([colorsCanc[y[i]]])\n",
    "    plt.scatter(pca.transform(X)[i, 0], pca.transform(X)[i, 2], c = color)\n",
    "\n",
    "# Add axis labels\n",
    "ax.set_xlabel('Z1')\n",
    "ax.set_ylabel('Z3')\n",
    "\n",
    "# Plot the first few principal component score vectors\n",
    "plt.show()"
   ]
  },
  {
   "cell_type": "code",
   "execution_count": null,
   "id": "d2333482",
   "metadata": {},
   "outputs": [],
   "source": [
    "# plotting PVE proportion of variance explained\n",
    "explained_variance_ratio = pca.explained_variance_ratio_\n",
    "plt.plot(explained_variance_ratio*100, marker='o') \n",
    "plt.show()\n",
    "# Elbow after the 7th PC"
   ]
  },
  {
   "cell_type": "code",
   "execution_count": null,
   "id": "1b7193b3",
   "metadata": {},
   "outputs": [],
   "source": [
    "# Cumulative PVE proportion of variance explained\n",
    "CumSum = [0]*len(explained_variance_ratio)\n",
    "# print(len(CumSum))\n",
    "for i in range(len(explained_variance_ratio)):\n",
    "    if i > 0:\n",
    "        CumSum[i] = explained_variance_ratio[i]*100 + CumSum[i-1]\n",
    "    else:\n",
    "        CumSum[i] = [0]\n",
    "        \n",
    "plt.plot(CumSum, marker = 'o')\n",
    "plt.show()\n",
    "# Less than first 10 PCs explain 40% of the Variance in the data"
   ]
  },
  {
   "cell_type": "code",
   "execution_count": 20,
   "id": "12dc2519",
   "metadata": {
    "scrolled": true
   },
   "outputs": [
    {
     "data": {
      "image/png": "[encoded data removed]",
      "text/plain": [
       "<Figure size 720x720 with 1 Axes>"
      ]
     },
     "metadata": {},
     "output_type": "display_data"
    },
    {
     "name": "stdout",
     "output_type": "stream",
     "text": [
      "CNS 6\n",
      "CNS 6\n",
      "CNS 6\n",
      "RENAL 11\n",
      "BREAST 10\n",
      "CNS 6\n",
      "CNS 6\n",
      "BREAST 6\n",
      "NSCLC 6\n",
      "NSCLC 6\n",
      "RENAL 5\n",
      "RENAL 5\n",
      "RENAL 5\n",
      "RENAL 5\n",
      "RENAL 5\n",
      "RENAL 5\n",
      "RENAL 5\n",
      "BREAST 6\n",
      "NSCLC 6\n",
      "RENAL 6\n",
      "UNKNOWN 6\n",
      "OVARIAN 6\n",
      "MELANOMA 6\n",
      "PROSTATE 6\n",
      "OVARIAN 6\n",
      "OVARIAN 6\n",
      "OVARIAN 6\n",
      "OVARIAN 6\n",
      "OVARIAN 6\n",
      "PROSTATE 6\n",
      "NSCLC 6\n",
      "NSCLC 6\n",
      "NSCLC 6\n",
      "LEUKEMIA 14\n",
      "K562B-repro 1\n",
      "K562A-repro 1\n",
      "LEUKEMIA 1\n",
      "LEUKEMIA 12\n",
      "LEUKEMIA 4\n",
      "LEUKEMIA 4\n",
      "LEUKEMIA 13\n",
      "COLON 6\n",
      "COLON 6\n",
      "COLON 6\n",
      "COLON 6\n",
      "COLON 6\n",
      "COLON 9\n",
      "COLON 6\n",
      "MCF7A-repro 3\n",
      "BREAST 3\n",
      "MCF7D-repro 3\n",
      "BREAST 3\n",
      "NSCLC 6\n",
      "NSCLC 7\n",
      "NSCLC 8\n",
      "MELANOMA 2\n",
      "BREAST 2\n",
      "BREAST 2\n",
      "MELANOMA 2\n",
      "MELANOMA 2\n",
      "MELANOMA 2\n",
      "MELANOMA 2\n",
      "MELANOMA 2\n",
      "MELANOMA 2\n"
     ]
    }
   ],
   "source": [
    "# Peforming Hierarchical clustering using the first 7 PCAs\n",
    "pca = PCA(n_components=7)\n",
    "df_pca = pca.fit_transform(X)\n",
    "\n",
    "sl_mergings = linkage(df_pca, method=\"single\", metric='euclidean')\n",
    "# print(sl_mergings)\n",
    "dendrogram(sl_mergings, labels=y) # Create a dendrogram of the PCA results\n",
    "plt.rcParams['figure.figsize'] = [10, 10]\n",
    "plt.show()\n",
    "\n",
    "# we have 14 different cancertypes, let's cluster into 14 clusters to see how accurate the hierarchical clustering is!\n",
    "clusters = fcluster(sl_mergings, 14, criterion='maxclust')\n",
    "\n",
    "# Print the clusters and labs next to each other for comparison by eye\n",
    "res = \"\\n\".join(\"{} {}\".format(x, y) for x, y in zip(y, clusters))\n",
    "print(res)\n"
   ]
  },
  {
   "cell_type": "code",
   "execution_count": 27,
   "id": "d03a0859",
   "metadata": {},
   "outputs": [
    {
     "name": "stdout",
     "output_type": "stream",
     "text": [
      "clusters     1   2   3   4   5   6   7   8   9   10  11  12  13  14\n",
      "labels                                                             \n",
      "BREAST        0   2   2   0   0   2   0   0   0   1   0   0   0   0\n",
      "CNS           0   0   0   0   0   5   0   0   0   0   0   0   0   0\n",
      "COLON         0   0   0   0   0   6   0   0   1   0   0   0   0   0\n",
      "K562A-repro   1   0   0   0   0   0   0   0   0   0   0   0   0   0\n",
      "K562B-repro   1   0   0   0   0   0   0   0   0   0   0   0   0   0\n",
      "LEUKEMIA      1   0   0   2   0   0   0   0   0   0   0   1   1   1\n",
      "MCF7A-repro   0   0   1   0   0   0   0   0   0   0   0   0   0   0\n",
      "MCF7D-repro   0   0   1   0   0   0   0   0   0   0   0   0   0   0\n",
      "MELANOMA      0   7   0   0   0   1   0   0   0   0   0   0   0   0\n",
      "NSCLC         0   0   0   0   0   7   1   1   0   0   0   0   0   0\n",
      "OVARIAN       0   0   0   0   0   6   0   0   0   0   0   0   0   0\n",
      "PROSTATE      0   0   0   0   0   2   0   0   0   0   0   0   0   0\n",
      "RENAL         0   0   0   0   7   1   0   0   0   0   1   0   0   0\n",
      "UNKNOWN       0   0   0   0   0   1   0   0   0   0   0   0   0   0\n"
     ]
    }
   ],
   "source": [
    "# checking the crosstab of the actual labs and the clusters\n",
    "acc = pd.DataFrame({'labels': y, 'clusters': clusters})\n",
    "# print(acc)\n",
    "ct = pd.crosstab(acc['labels'], acc['clusters'])\n",
    "# print(ct)"
   ]
  },
  {
   "cell_type": "code",
   "execution_count": null,
   "id": "2f5351ed",
   "metadata": {},
   "outputs": [],
   "source": []
  }
 ],
 "metadata": {
  "kernelspec": {
   "display_name": "Python 3 (ipykernel)",
   "language": "python",
   "name": "python3"
  },
  "language_info": {
   "codemirror_mode": {
    "name": "ipython",
    "version": 3
   },
   "file_extension": ".py",
   "mimetype": "text/x-python",
   "name": "python",
   "nbconvert_exporter": "python",
   "pygments_lexer": "ipython3",
   "version": "3.9.7"
  }
 },
 "nbformat": 4,
 "nbformat_minor": 5
}
