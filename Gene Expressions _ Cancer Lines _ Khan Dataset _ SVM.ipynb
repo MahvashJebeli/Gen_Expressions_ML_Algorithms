{
 "cells": [
  {
   "cell_type": "code",
   "execution_count": 47,
   "id": "76e7d46f",
   "metadata": {},
   "outputs": [],
   "source": [
    "# Example code to work with gene expression data, ISLR dataset Khan was used\n",
    "# Khan dataset consists of a number of tissue samples corresponding to four distinct types of small round blue cell tumors. \n",
    "# For each tissue sample, gene expression measurements are available.\n",
    "# This data set consists of expression measurements for 2,308 genes.\n",
    "\n",
    "# Using support vector approach to predict cancer subtype using gene expression measurements.\n",
    "# Large numebr of features relative to the numebr of observations (83), so using Linear Kernel to avoid overfitting.\n",
    "\n",
    "# Dataset compatible with python was downloaded from https://github.com/emredjan/ISL-python/tree/master/datasets\n",
    "import numpy as np\n",
    "from sklearn import preprocessing, svm\n",
    "from sklearn.model_selection import train_test_split\n",
    "import pandas as pd\n",
    "import matplotlib.pyplot as plt\n",
    "from matplotlib import style\n",
    "style.use('ggplot')"
   ]
  },
  {
   "cell_type": "code",
   "execution_count": 48,
   "id": "44bec2ce",
   "metadata": {},
   "outputs": [
    {
     "name": "stderr",
     "output_type": "stream",
     "text": [
      "C:\\Users\\mahva\\AppData\\Local\\Temp/ipykernel_7652/1064925383.py:11: FutureWarning: In a future version of pandas all arguments of DataFrame.drop except for the argument 'labels' will be keyword-only\n",
      "  dfx.drop(['Unnamed: 0'], 1, inplace = True )\n",
      "C:\\Users\\mahva\\AppData\\Local\\Temp/ipykernel_7652/1064925383.py:13: FutureWarning: In a future version of pandas all arguments of DataFrame.drop except for the argument 'labels' will be keyword-only\n",
      "  dfy.drop(['Unnamed: 0'], 1, inplace = True )\n"
     ]
    }
   ],
   "source": [
    "# work with Khan dataset\n",
    "# need to go through the next steps to merge all the data that I found devided in train and test datasets! pfff!\n",
    "# loading the excel files\n",
    "df0 = pd.read_csv('Khan_xtest.csv')\n",
    "df1 = pd.read_csv('Khan_xtrain.csv')\n",
    "df2 = pd.read_csv('Khan_ytest.csv')\n",
    "df3 = pd.read_csv('Khan_ytrain.csv')\n",
    "\n",
    "# mixing the test and train datasets\n",
    "dfx = df1.append(df0)\n",
    "dfx.drop(['Unnamed: 0'], 1, inplace = True )\n",
    "dfy = df3.append(df2)\n",
    "dfy.drop(['Unnamed: 0'], 1, inplace = True )\n",
    "# print(dfx.head())\n",
    "# print(dfy.head())\n",
    "\n",
    "X = np.array(dfx)\n",
    "y = np.array(dfy)\n",
    "# print(X.shape, y.shape)\n",
    "\n",
    "# df = dfx.assign(y=dfy['x']) # adding the y column to gene expressions if needed everything in the same file!\n",
    "# print(df.head())\n",
    "\n",
    "# dividing the data into train and test sets\n",
    "X_train, X_test, y_train, y_test = train_test_split(X, y, test_size=0.2)"
   ]
  },
  {
   "cell_type": "code",
   "execution_count": 49,
   "id": "60052560",
   "metadata": {},
   "outputs": [
    {
     "name": "stdout",
     "output_type": "stream",
     "text": [
      "0.9411764705882353\n"
     ]
    },
    {
     "name": "stderr",
     "output_type": "stream",
     "text": [
      "C:\\Users\\mahva\\AppData\\Roaming\\Python\\Python39\\site-packages\\sklearn\\utils\\validation.py:1184: DataConversionWarning: A column-vector y was passed when a 1d array was expected. Please change the shape of y to (n_samples, ), for example using ravel().\n",
      "  y = column_or_1d(y, warn=True)\n"
     ]
    }
   ],
   "source": [
    "# Using support vector approach to predict cancer subtype using gene expression measurements.\n",
    "clf = svm.SVC()\n",
    "clf.fit(X_train, y_train)\n",
    "\n",
    "accuracy = clf.score(X_test, y_test)\n",
    "print(accuracy)"
   ]
  },
  {
   "cell_type": "code",
   "execution_count": null,
   "id": "8b105149",
   "metadata": {},
   "outputs": [],
   "source": []
  }
 ],
 "metadata": {
  "kernelspec": {
   "display_name": "Python 3 (ipykernel)",
   "language": "python",
   "name": "python3"
  },
  "language_info": {
   "codemirror_mode": {
    "name": "ipython",
    "version": 3
   },
   "file_extension": ".py",
   "mimetype": "text/x-python",
   "name": "python",
   "nbconvert_exporter": "python",
   "pygments_lexer": "ipython3",
   "version": "3.9.7"
  }
 },
 "nbformat": 4,
 "nbformat_minor": 5
}
